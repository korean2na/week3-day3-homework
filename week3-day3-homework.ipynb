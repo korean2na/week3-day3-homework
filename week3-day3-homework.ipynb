{
 "cells": [
  {
   "cell_type": "markdown",
   "metadata": {},
   "source": [
    "# Map, Filter, Reduce, Lambda & Recursion"
   ]
  },
  {
   "cell_type": "markdown",
   "metadata": {},
   "source": [
    "## Tasks Today:\n",
    "\n",
    "1) <b>Lambda Functions</b> <br>\n",
    " &nbsp;&nbsp;&nbsp;&nbsp; a) Syntax <br>\n",
    " &nbsp;&nbsp;&nbsp;&nbsp; b) Saving to a Variable <br>\n",
    " &nbsp;&nbsp;&nbsp;&nbsp; c) Multiple Inputs <br>\n",
    " &nbsp;&nbsp;&nbsp;&nbsp; d) Passing a Lambda into a Function <br>\n",
    " &nbsp;&nbsp;&nbsp;&nbsp; e) Returning a Lambda from a Function <br>\n",
    " &nbsp;&nbsp;&nbsp;&nbsp; f) In-Class Exercise #1 <br>\n",
    "2) <b>Map</b> <br>\n",
    " &nbsp;&nbsp;&nbsp;&nbsp; a) Syntax <br>\n",
    " &nbsp;&nbsp;&nbsp;&nbsp; b) Using Lambda's with Map <br>\n",
    " &nbsp;&nbsp;&nbsp;&nbsp; c) In-Class Exercise #2 <br>\n",
    "3) <b>Filter</b> <br>\n",
    " &nbsp;&nbsp;&nbsp;&nbsp; a) Syntax <br>\n",
    " &nbsp;&nbsp;&nbsp;&nbsp; b) Using Lambda's with Filter <br>\n",
    " &nbsp;&nbsp;&nbsp;&nbsp; c) In-Class Exercise #3 <br>\n",
    "4) <b>Reduce</b> <br>\n",
    " &nbsp;&nbsp;&nbsp;&nbsp; a) Syntax <br>\n",
    " &nbsp;&nbsp;&nbsp;&nbsp; b) Using Lambda's with Reduce <br>\n",
    " &nbsp;&nbsp;&nbsp;&nbsp; c) In-Class Exercise #4 <br>\n",
    "5) <b>Recursion</b> <br>\n",
    " &nbsp;&nbsp;&nbsp;&nbsp; a) Implementing a Base <br>\n",
    " &nbsp;&nbsp;&nbsp;&nbsp; b) Writing a Factorial Function <br>\n",
    " &nbsp;&nbsp;&nbsp;&nbsp; c) In-Class Exercise #5 <br>\n",
    "6) <b>Generators & Iterators</b> <br>\n",
    " &nbsp;&nbsp;&nbsp;&nbsp; a) Yield Keyword <br>\n",
    " &nbsp;&nbsp;&nbsp;&nbsp; b) Inifinite Generator <br>\n",
    " &nbsp;&nbsp;&nbsp;&nbsp; c) In-Class Exercise #6 <br>\n",
    "7) <b>Exercises</b> <br>\n",
    " &nbsp;&nbsp;&nbsp;&nbsp; a) Exercise #1 - Filtering Empty Strings <br>\n",
    " &nbsp;&nbsp;&nbsp;&nbsp; b) Exercise #2 - Sorting with Last Name <br>\n",
    " &nbsp;&nbsp;&nbsp;&nbsp; c) Exercise #3 - Conversion to Farhenheit <br>\n",
    " &nbsp;&nbsp;&nbsp;&nbsp; d) Exercise #4 - Fibonacci Sequence <br>"
   ]
  },
  {
   "cell_type": "markdown",
   "metadata": {},
   "source": [
    "## Lambda Functions <br>\n",
    "<p>Lambda functions... or \"Anonymous Functions\" are referring to inline functions with no name. The keyword lambda denotes the no name function, and executes within a single line. Without saving it to a variable; however, it is not able to be used, unless passed in either as a paramater or within list comprehension.<br>Written as \"(keyword lambda) (one or more inputs) (colon) (function to be executed)\"</p>"
   ]
  },
  {
   "cell_type": "markdown",
   "metadata": {},
   "source": [
    "#### Syntax"
   ]
  },
  {
   "cell_type": "code",
   "execution_count": 3,
   "metadata": {},
   "outputs": [
    {
     "name": "stdout",
     "output_type": "stream",
     "text": [
      "4\n",
      "4\n"
     ]
    }
   ],
   "source": [
    "def addTwo(x):\n",
    "    return x + 2\n",
    "\n",
    "print(addTwo(2))\n",
    "\n",
    "print((lambda x: x + 2)(2))"
   ]
  },
  {
   "cell_type": "markdown",
   "metadata": {},
   "source": [
    "#### Saving to a Variable"
   ]
  },
  {
   "cell_type": "code",
   "execution_count": 5,
   "metadata": {},
   "outputs": [
    {
     "name": "stdout",
     "output_type": "stream",
     "text": [
      "4\n"
     ]
    }
   ],
   "source": [
    "add_two = lambda x: x + 2\n",
    "print(add_two(2))"
   ]
  },
  {
   "cell_type": "markdown",
   "metadata": {},
   "source": [
    "#### Multiple Inputs"
   ]
  },
  {
   "cell_type": "code",
   "execution_count": 7,
   "metadata": {},
   "outputs": [
    {
     "name": "stdout",
     "output_type": "stream",
     "text": [
      "120\n",
      "120\n"
     ]
    }
   ],
   "source": [
    "print((lambda x, y, z: x * y * z)(3, 5, 8))\n",
    "\n",
    "multiply_three = lambda x, y, z: x * y * z\n",
    "print(multiply_three(3, 5, 8))"
   ]
  },
  {
   "cell_type": "markdown",
   "metadata": {},
   "source": [
    "#### Passing a Lambda into a Function"
   ]
  },
  {
   "cell_type": "code",
   "execution_count": 8,
   "metadata": {},
   "outputs": [
    {
     "data": {
      "text/plain": [
       "16"
      ]
     },
     "execution_count": 8,
     "metadata": {},
     "output_type": "execute_result"
    }
   ],
   "source": [
    "def multiply(f, num):\n",
    "    # f will be a lambda\n",
    "    # num will be a number\n",
    "    return f(num)\n",
    "\n",
    "multiply(lambda x: x * x, 4)"
   ]
  },
  {
   "cell_type": "markdown",
   "metadata": {},
   "source": [
    "#### Returning a Lambda from a Function"
   ]
  },
  {
   "cell_type": "code",
   "execution_count": 14,
   "metadata": {},
   "outputs": [
    {
     "name": "stdout",
     "output_type": "stream",
     "text": [
      "10\n",
      "10\n",
      "19\n",
      "19\n",
      "21\n"
     ]
    }
   ],
   "source": [
    "def multiply_test(num):\n",
    "    return num * 4\n",
    "\n",
    "def returnFunc():\n",
    "    def multiply(num):\n",
    "        return num * 2\n",
    "    return multiply\n",
    "\n",
    "f_return = returnFunc()\n",
    "print(f_return(5))\n",
    "\n",
    "f_return = returnFunc()(5)\n",
    "print(f_return)\n",
    "\n",
    "def returnLam(b,c):\n",
    "    return lambda x, a: x + a + b + c\n",
    "r_lamb = returnLam(4, 5)\n",
    "print(r_lamb(6,4))\n",
    "\n",
    "print(returnLam(4, 5)(6, 4))\n",
    "print(returnLam(2, 5)(10, 4))"
   ]
  },
  {
   "cell_type": "markdown",
   "metadata": {},
   "source": [
    "#### If Statements within Lambdas"
   ]
  },
  {
   "cell_type": "code",
   "execution_count": 15,
   "metadata": {},
   "outputs": [
    {
     "name": "stdout",
     "output_type": "stream",
     "text": [
      "11\n",
      "22\n"
     ]
    }
   ],
   "source": [
    "print((lambda num: num * 2 if num > 10 else num + 2)(9))\n",
    "\n",
    "f_condition = lambda num: num * 2 if num > 2 else num + 2\n",
    "print(f_condition(11))"
   ]
  },
  {
   "cell_type": "markdown",
   "metadata": {},
   "source": [
    "#### In-Class Exercise #1 <br>\n",
    "<p>Write an anonymous function that cubes the arguments passed in and assign the anonymous function to a variable 'f'.</p>"
   ]
  },
  {
   "cell_type": "code",
   "execution_count": 25,
   "metadata": {},
   "outputs": [
    {
     "name": "stdout",
     "output_type": "stream",
     "text": [
      "64\n",
      "64\n"
     ]
    }
   ],
   "source": [
    "def cube():\n",
    "    return lambda x: x ** 3\n",
    "f = cube()\n",
    "print(f(4))"
   ]
  },
  {
   "cell_type": "markdown",
   "metadata": {},
   "source": [
    "## Map <br>\n",
    "<p>The map function allows you to iterate over an entire list while running a function on each item of the list. This is why the map function works well with lambda's, because it simplifies things and you write less lines of code.<br>The syntax for a map function is \"map(function to be used, list to be used)\"<br>However, you must be careful, as the map function returns a map object, not a list. To turn it into a list we use the list() type conversion.</p>"
   ]
  },
  {
   "cell_type": "markdown",
   "metadata": {},
   "source": [
    "#### Syntax"
   ]
  },
  {
   "cell_type": "code",
   "execution_count": 32,
   "metadata": {},
   "outputs": [
    {
     "name": "stdout",
     "output_type": "stream",
     "text": [
      "[(16, 16), (11, 10), (20, 3), (9, 4), (15, 6)]\n",
      "[(16, 16), (11, 10), (20, 3), (9, 4), (15, 6)]\n"
     ]
    }
   ],
   "source": [
    "def squared(num1, num2):\n",
    "    if num1 < 10 > num2:\n",
    "        return num1**2, num2**2\n",
    "    return num1, num2\n",
    "\n",
    "numbers = [4, 11, 20, 3, 15, 20]\n",
    "numbers2 = [4, 10, 3, 2, 6]\n",
    "\n",
    "print(list(map(squared, numbers, numbers2)))\n",
    "print([t for t in map(squared, numbers, numbers2)])"
   ]
  },
  {
   "cell_type": "markdown",
   "metadata": {},
   "source": [
    "#### Using Lambda's with Map"
   ]
  },
  {
   "cell_type": "code",
   "execution_count": 34,
   "metadata": {},
   "outputs": [
    {
     "name": "stdout",
     "output_type": "stream",
     "text": [
      "[(16, 16), (11, 10), (20, 3), (9, 4), (15, 6)]\n"
     ]
    }
   ],
   "source": [
    "double_num = print(list(map(lambda num1, num2: (num1**2, num2**2) if num1 < 10 > num2 else (num1, num2), numbers, numbers2)))"
   ]
  },
  {
   "cell_type": "code",
   "execution_count": 35,
   "metadata": {},
   "outputs": [
    {
     "name": "stdout",
     "output_type": "stream",
     "text": [
      "[100, 1, 9, 81]\n"
     ]
    }
   ],
   "source": [
    "square_num = print(list(map(lambda x: x**2, [10, 1, 3, 9])))"
   ]
  },
  {
   "cell_type": "markdown",
   "metadata": {},
   "source": [
    "#### In-Class Exercise #2 <br>\n",
    "<p>Use the map function to double each number and minus it by one in the list by using a lambda function</p>"
   ]
  },
  {
   "cell_type": "code",
   "execution_count": 43,
   "metadata": {},
   "outputs": [
    {
     "name": "stdout",
     "output_type": "stream",
     "text": [
      "[19, 1, 5, 17, 15]\n"
     ]
    }
   ],
   "source": [
    "alist = [10, 1, 3, 9, 8]\n",
    "quick_maths = print(list(map(lambda x: x * 2 - 1, alist)))"
   ]
  },
  {
   "cell_type": "markdown",
   "metadata": {},
   "source": [
    "##### Use the map function to take in a list of numbers and make each index False if odd, else True if even"
   ]
  },
  {
   "cell_type": "code",
   "execution_count": 42,
   "metadata": {},
   "outputs": [
    {
     "name": "stdout",
     "output_type": "stream",
     "text": [
      "[True, False, False, False, True]\n"
     ]
    }
   ],
   "source": [
    "alist = [10, 1, 3, 9, 8]\n",
    "find_evens = print(list(map(lambda x: True if x%2 == 0 else False, alist)))"
   ]
  },
  {
   "cell_type": "markdown",
   "metadata": {},
   "source": [
    "## Filter() <br>\n",
    "<p>Filter's are similar to the map function, where you're able to pass a function argument and a list argument and filter out something from the list based on the conditions passed. Similar to the map function, it returns a filter object, so you need to type convert it to a list()</p>"
   ]
  },
  {
   "cell_type": "markdown",
   "metadata": {},
   "source": [
    "#### Syntax"
   ]
  },
  {
   "cell_type": "code",
   "execution_count": 3,
   "metadata": {},
   "outputs": [
    {
     "name": "stdout",
     "output_type": "stream",
     "text": [
      "['Mike', 'Brendan', 'Hayden']\n"
     ]
    }
   ],
   "source": [
    "names = ['mike', 'brendan', 'james', 'jordan', 'hayden']\n",
    "\n",
    "def filterj(alist):\n",
    "    nojs = []\n",
    "    for name in alist:\n",
    "        if name[0] == 'j':\n",
    "            continue\n",
    "        nojs.append(name.title())\n",
    "    return nojs\n",
    "\n",
    "print(filterj(names))"
   ]
  },
  {
   "cell_type": "markdown",
   "metadata": {},
   "source": [
    "#### Using Lambda's with Filter()"
   ]
  },
  {
   "cell_type": "code",
   "execution_count": 11,
   "metadata": {},
   "outputs": [
    {
     "name": "stdout",
     "output_type": "stream",
     "text": [
      "['mike', 'brendan', 'hayden']\n",
      "['mike', 'brendan', 'hayden']\n"
     ]
    }
   ],
   "source": [
    "print(list(filter(lambda name: True if name[0] != 'j' else False, names)))\n",
    "\n",
    "print([n for n in filter(lambda name: True if name[0] != 'j' else False, names)])"
   ]
  },
  {
   "cell_type": "code",
   "execution_count": 14,
   "metadata": {},
   "outputs": [
    {
     "name": "stdout",
     "output_type": "stream",
     "text": [
      "[2, 4]\n",
      "[2, 4]\n"
     ]
    }
   ],
   "source": [
    "def filter_copy(f, alist):\n",
    "    copy_list = []\n",
    "    for i in range(len(alist)):\n",
    "        if f(alist[i]):\n",
    "            copy_list.append(alist[i])\n",
    "    return copy_list\n",
    "\n",
    "print(filter_copy(lambda x: True if x % 2 == 0 else False, [1, 2, 3, 4, 5]))\n",
    "\n",
    "print(list(filter(lambda x: True if x % 2 == 0 else False, [1, 2, 3, 4, 5])))"
   ]
  },
  {
   "cell_type": "markdown",
   "metadata": {},
   "source": [
    "#### In-Class Exercise #3 <br>\n",
    "<p>Filter out all the numbers that are below the mean of the list.<br><b>Hint: Import the 'statistics' module</b></p>"
   ]
  },
  {
   "cell_type": "code",
   "execution_count": 20,
   "metadata": {},
   "outputs": [
    {
     "name": "stdout",
     "output_type": "stream",
     "text": [
      "[2, 4.2, 1.6, 4.4]\n",
      "[-4.5, -2, 2.2]\n"
     ]
    }
   ],
   "source": [
    "import statistics\n",
    "# x = statistics.mean(data1)\n",
    "\n",
    "nums = [2,7,4.2,1.6,9,4.4,4.9]\n",
    "# 4.729\n",
    "\n",
    "nums2 = [-4.5, -2, 2.2, 3, 4, 5, 7.8]\n",
    "# 2.214\n",
    "\n",
    "# mean = statistics.mean(nums)\n",
    "# print(list(filter(lambda x: True if x < mean else False, nums)))\n",
    "\n",
    "print(list(filter(lambda x: True if x < statistics.mean(nums) else False, nums)))\n",
    "print(list(filter(lambda x: True if x < statistics.mean(nums2) else False, nums2)))\n"
   ]
  },
  {
   "cell_type": "markdown",
   "metadata": {},
   "source": [
    "## Reduce() <br>\n",
    "<p>Be very careful when using this function, as of Python 3 it's been moved to the 'functools' library and no longer is a built-in function.<br>The creator of Python himself, says to just use a for loop instead.</p>"
   ]
  },
  {
   "cell_type": "markdown",
   "metadata": {},
   "source": [
    "#### Syntax"
   ]
  },
  {
   "cell_type": "code",
   "execution_count": 22,
   "metadata": {},
   "outputs": [
    {
     "name": "stdout",
     "output_type": "stream",
     "text": [
      "30\n"
     ]
    }
   ],
   "source": [
    "from functools import reduce\n",
    "\n",
    "list1 = [2, 4, 6, 8, 10]\n",
    "\n",
    "def addNums(nums1, nums2):\n",
    "    return nums1 + nums2\n",
    "\n",
    "print(reduce(addNums, list1))"
   ]
  },
  {
   "cell_type": "markdown",
   "metadata": {},
   "source": [
    "#### Using Lambda's with Reduce()"
   ]
  },
  {
   "cell_type": "code",
   "execution_count": 23,
   "metadata": {},
   "outputs": [
    {
     "name": "stdout",
     "output_type": "stream",
     "text": [
      "-26\n"
     ]
    }
   ],
   "source": [
    "print(reduce(lambda x, y: x-y, list1))"
   ]
  },
  {
   "cell_type": "markdown",
   "metadata": {},
   "source": [
    "#### In-Class Exercise #4 <br>\n",
    "<p>Use the reduce function to multiply the numbers in the list below together with a lambda function.</p>"
   ]
  },
  {
   "cell_type": "code",
   "execution_count": 28,
   "metadata": {},
   "outputs": [
    {
     "name": "stdout",
     "output_type": "stream",
     "text": [
      "24\n"
     ]
    }
   ],
   "source": [
    "my_list = [1, 2, 3, 4]\n",
    "\n",
    "print(reduce(lambda x, y: x * y, my_list))"
   ]
  },
  {
   "cell_type": "markdown",
   "metadata": {},
   "source": [
    "## Recursion <br>\n",
    "<p>Recursion means that a function is calling itself, so it contanstly executes until a base case is reached. It will then push the returning values back up the chain until the function is complete. A prime example of recursion is computing factorials... such that 5! (factorial) is 5*4*3*2*1 which equals 120.</p>"
   ]
  },
  {
   "cell_type": "markdown",
   "metadata": {},
   "source": [
    "#### Implementing a Base Case"
   ]
  },
  {
   "cell_type": "code",
   "execution_count": 31,
   "metadata": {},
   "outputs": [
    {
     "name": "stdout",
     "output_type": "stream",
     "text": [
      "r_a(5) = 5 + r_a(4)\n",
      "r_a(4) = 4 + r_a(3)\n",
      "r_a(3) = 3 + r_a(2)\n",
      "r_a(2) = 2 + r_a(1)\n",
      "r_a(1) = 1\n",
      "15\n"
     ]
    }
   ],
   "source": [
    "def recursive_addition(num):\n",
    "    if num <= 1:\n",
    "        print(f'r_a({num}) = 1')\n",
    "        return num\n",
    "    print(f'r_a({num}) = {num} + r_a({num-1})')\n",
    "    return num + recursive_addition(num-1)\n",
    "\n",
    "print(recursive_addition(5))\n",
    "\n",
    "# r**2-x\n",
    "# 2*(r**2-(r-1)**2)-r\n",
    "# 2*(49-36)-7\n",
    "\n",
    "# 8   36=8+28\n",
    "# 7   28=7+21\n",
    "# 6   21=6+15\n",
    "# 5   15=5+10\n",
    "# 4   10=4+6\n",
    "# 3   6=3+3\n",
    "# 2   3=2+1\n",
    "# 1   1"
   ]
  },
  {
   "cell_type": "markdown",
   "metadata": {},
   "source": [
    "#### Writing a Factorial Function"
   ]
  },
  {
   "cell_type": "code",
   "execution_count": 34,
   "metadata": {},
   "outputs": [
    {
     "name": "stdout",
     "output_type": "stream",
     "text": [
      "facto(5) = 5 * facto(4)\n",
      "facto(4) = 4 * facto(3)\n",
      "facto(3) = 3 * facto(2)\n",
      "facto(2) = 2 * facto(1)\n",
      "facto(1) = 1\n",
      "120\n"
     ]
    }
   ],
   "source": [
    "def facto(num):\n",
    "    if num <= 1:\n",
    "        print(f'facto({num}) = 1')\n",
    "        return num\n",
    "    print(f'facto({num}) = {num} * facto({num-1})')\n",
    "    return num * facto(num-1)\n",
    "\n",
    "print(facto(5))"
   ]
  },
  {
   "cell_type": "markdown",
   "metadata": {},
   "source": [
    "#### In-Class Exercise #5 <br>\n",
    "<p>Write a recursive function that subtracts all numbers to the argument given.</p>"
   ]
  },
  {
   "cell_type": "code",
   "execution_count": 40,
   "metadata": {},
   "outputs": [
    {
     "name": "stdout",
     "output_type": "stream",
     "text": [
      "8\n"
     ]
    }
   ],
   "source": [
    "def rec_sub(num):\n",
    "    if num <= 1:\n",
    "        return num\n",
    "    return num - rec_sub(num-1)\n",
    "\n",
    "print(rec_sub(15))\n",
    "\n",
    "# 8   4 = 8-4\n",
    "# 7   4 = 7-3\n",
    "# 6   3 = 6-3\n",
    "# 5   3 = 5-2\n",
    "# 4   2 = 4-2\n",
    "# 3   2 = 3-1\n",
    "# 2   1 = 2-1\n",
    "# 1   1"
   ]
  },
  {
   "cell_type": "markdown",
   "metadata": {},
   "source": [
    "## Generators <br>\n",
    "<p>Generators are a type of iterable, like lists or tuples. They do not allow indexing, but they can still be iterated through with for loops. They are created using functions and the yield statement.</p>"
   ]
  },
  {
   "cell_type": "markdown",
   "metadata": {},
   "source": [
    "#### Yield Keyword <br>\n",
    "<p>The yield keyword denotes a generator, it doesn't return so it won't leave the function and reset all variables in the function scope, instead it yields the number back to the caller.</p>"
   ]
  },
  {
   "cell_type": "code",
   "execution_count": 42,
   "metadata": {},
   "outputs": [
    {
     "name": "stdout",
     "output_type": "stream",
     "text": [
      "[2, 4, 6, 8, 10, 12, 14, 16, 18]\n",
      "<generator object my_range at 0x000001BF5559BE60>\n"
     ]
    }
   ],
   "source": [
    "def my_range(start, stop, step=1):\n",
    "    while start < stop:\n",
    "        yield start\n",
    "        start += step\n",
    "\n",
    "print([num for num in my_range(2, 20, 2)])"
   ]
  },
  {
   "cell_type": "code",
   "execution_count": 44,
   "metadata": {},
   "outputs": [
    {
     "name": "stdout",
     "output_type": "stream",
     "text": [
      "2\n"
     ]
    }
   ],
   "source": [
    "def my_range(start, stop, step=1):\n",
    "    while start < stop:\n",
    "        yield start\n",
    "        start += step\n",
    "\n",
    "print([num for num in my_range(2, 20, 2)])"
   ]
  },
  {
   "cell_type": "markdown",
   "metadata": {},
   "source": [
    "#### Infinite Generator"
   ]
  },
  {
   "cell_type": "code",
   "execution_count": null,
   "metadata": {},
   "outputs": [],
   "source": [
    "# bad, never create infinite loops\n",
    "def my_range(start, stop):\n",
    "    while start < stop:\n",
    "        yield start\n",
    "\n",
    "print([num for num in my_range(2, 20, 2)])"
   ]
  },
  {
   "cell_type": "markdown",
   "metadata": {},
   "source": [
    "#### In-Class Exercise #6 <br>\n",
    "<p>Create a generator that takes a number argument and yields that number squared, then prints each number squared until zero is reached.</p>"
   ]
  },
  {
   "cell_type": "code",
   "execution_count": 5,
   "metadata": {},
   "outputs": [
    {
     "name": "stdout",
     "output_type": "stream",
     "text": [
      "[100, 64, 36, 16, 4]\n"
     ]
    }
   ],
   "source": [
    "def square_down(start, stop, step=1):\n",
    "    while start > stop:\n",
    "        yield start ** 2\n",
    "        start -= step\n",
    "\n",
    "print([num for num in square_down(10, 1, 2)])"
   ]
  },
  {
   "cell_type": "markdown",
   "metadata": {},
   "source": [
    "# Exercises"
   ]
  },
  {
   "cell_type": "markdown",
   "metadata": {},
   "source": [
    "### Exercise #1 <br>\n",
    "<p>Filter out all of the empty strings from the list below</p>\n",
    "\n",
    "`Output: ['Argentina', 'San Diego', 'Boston', 'New York']`"
   ]
  },
  {
   "cell_type": "code",
   "execution_count": 11,
   "metadata": {},
   "outputs": [
    {
     "name": "stdout",
     "output_type": "stream",
     "text": [
      "['Argentina', 'San Diego', 'Boston', 'New York']\n"
     ]
    }
   ],
   "source": [
    "places = [\" \",\"Argentina\", \" \", \"San Diego\",\"\",\"  \",\"\",\"Boston\",\"New York\"]\n",
    "\n",
    "import re\n",
    "no_space = re.compile(r'[\\w]+')\n",
    "\n",
    "# for n in places:\n",
    "#     if no_space.search(n):\n",
    "#         print(n)\n",
    "\n",
    "print(list(filter(lambda x: True if no_space.search(x) else False, places)))"
   ]
  },
  {
   "cell_type": "markdown",
   "metadata": {},
   "source": [
    "### Exercise #2 <br>\n",
    "<p>Write an anonymous function that sorts this list by the last name...<br><b>Hint: Use the \".sort()\" method and access the key\"</b></p>\n",
    "\n",
    "`Output: ['Victor aNisimov', 'Gary A.J. Bernstein', 'Joel Carter', 'Andrew P. Garfield', 'David hassELHOFF']`"
   ]
  },
  {
   "cell_type": "code",
   "execution_count": 21,
   "metadata": {},
   "outputs": [
    {
     "ename": "SyntaxError",
     "evalue": "invalid syntax. Maybe you meant '==' or ':=' instead of '='? (1323453998.py, line 11)",
     "output_type": "error",
     "traceback": [
      "\u001b[1;36m  Cell \u001b[1;32mIn [21], line 11\u001b[1;36m\u001b[0m\n\u001b[1;33m    print(author.sort(key=lambda x: len(x) for x in author))\u001b[0m\n\u001b[1;37m                      ^\u001b[0m\n\u001b[1;31mSyntaxError\u001b[0m\u001b[1;31m:\u001b[0m invalid syntax. Maybe you meant '==' or ':=' instead of '='?\n"
     ]
    }
   ],
   "source": [
    "author = [\"Joel Carter\", \"Victor aNisimov\", \"Andrew P. Garfield\",\"David hassELHOFF\",\"Gary A.J. Bernstein\"]\n",
    "\n",
    "import re\n",
    "last = re.compile(r'([A-Za-z]+) ([A-Za-z]+)* ([a-zA-Z]+)')\n",
    "\n",
    "# for n in author:\n",
    "#     found = last.search(n)\n",
    "#     if found:\n",
    "#         print(found.groups())\n",
    "\n",
    "print(author.sort(key=lambda x: len(x)))"
   ]
  },
  {
   "cell_type": "markdown",
   "metadata": {},
   "source": [
    "### Exercise #3 <br>\n",
    "<p>Convert the list below from Celsius to Farhenheit, using the map function with a lambda...</p>\n",
    "\n",
    "`Output: [('Nashua', 89.6), ('Boston', 53.6), ('Los Angelos', 111.2), ('Miami', 84.2)]\n",
    "`"
   ]
  },
  {
   "cell_type": "code",
   "execution_count": 42,
   "metadata": {},
   "outputs": [
    {
     "name": "stdout",
     "output_type": "stream",
     "text": [
      "[('Nashua', 89.6), ('Boston', 53.6), ('Los Angelos', 111.2), ('Miami', 84.2)]\n"
     ]
    }
   ],
   "source": [
    "# F = (9/5)*C + 32\n",
    "places = [('Nashua',32),(\"Boston\",12),(\"Los Angelos\",44),(\"Miami\",29)]\n",
    "\n",
    "print(list(map(lambda x: (x[0], x[-1] * 9/5 + 32), places)))"
   ]
  },
  {
   "cell_type": "markdown",
   "metadata": {},
   "source": [
    "### Exercise #4 <br>\n",
    "<p>Write a recursion function to perform the fibonacci sequence up to the number passed in.</p>\n",
    "\n",
    "`Output for fib(5) => \n",
    "Iteration 0: 1\n",
    "Iteration 1: 1\n",
    "Iteration 2: 2\n",
    "Iteration 3: 3\n",
    "Iteration 4: 5\n",
    "Iteration 5: 8`"
   ]
  },
  {
   "cell_type": "code",
   "execution_count": 10,
   "metadata": {
    "scrolled": true
   },
   "outputs": [
    {
     "name": "stdout",
     "output_type": "stream",
     "text": [
      "0\n",
      "1\n",
      "1\n",
      "2\n",
      "3\n",
      "5\n",
      "8\n"
     ]
    }
   ],
   "source": [
    "# def recursive_addition(num):\n",
    "#     if num <= 1:\n",
    "#         print(f'r_a({num}) = 1')\n",
    "#         return num\n",
    "#     print(f'r_a({num}) = {num} + r_a({num-1})')\n",
    "#     return num + recursive_addition(num-1)\n",
    "\n",
    "# print(recursive_addition(5))\n",
    "\n",
    "# I know assignment says fib(5) should give 8, but math sites online seemed to set fib(5) = 5 which is 1 iteration behind the given output for this exercise.\n",
    "\n",
    "def fib(n):\n",
    "    if n <= 1:\n",
    "        # print(f'fib({n}) = {n}')\n",
    "        return n\n",
    "    # print(f'fib({n}) = fib({n-1}) + fib({n-2})')\n",
    "    return fib(n-1) + fib(n-2)\n",
    "\n",
    "print(fib(0))\n",
    "print(fib(1))\n",
    "print(fib(2))\n",
    "print(fib(3))\n",
    "print(fib(4))\n",
    "print(fib(5))\n",
    "print(fib(6))"
   ]
  }
 ],
 "metadata": {
  "kernelspec": {
   "display_name": "Python 3.10.8 64-bit",
   "language": "python",
   "name": "python3"
  },
  "language_info": {
   "codemirror_mode": {
    "name": "ipython",
    "version": 3
   },
   "file_extension": ".py",
   "mimetype": "text/x-python",
   "name": "python",
   "nbconvert_exporter": "python",
   "pygments_lexer": "ipython3",
   "version": "3.10.8"
  },
  "vscode": {
   "interpreter": {
    "hash": "26de051ba29f2982a8de78e945f0abaf191376122a1563185a90213a26c5da77"
   }
  }
 },
 "nbformat": 4,
 "nbformat_minor": 2
}
